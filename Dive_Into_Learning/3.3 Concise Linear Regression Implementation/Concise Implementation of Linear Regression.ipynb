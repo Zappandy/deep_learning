{
 "cells": [
  {
   "cell_type": "code",
   "execution_count": 16,
   "id": "18e8fe74",
   "metadata": {},
   "outputs": [],
   "source": [
    "import numpy as np\n",
    "import torch\n",
    "from torch.utils import data\n",
    "from d2l import torch as d2l"
   ]
  },
  {
   "cell_type": "code",
   "execution_count": 17,
   "id": "939e77e4",
   "metadata": {},
   "outputs": [],
   "source": [
    "true_w = torch.tensor([2, -3.4])\n",
    "true_b = 4.2\n",
    "features, labels = d2l.synthetic_data(true_w, true_b, 1000)"
   ]
  },
  {
   "cell_type": "code",
   "execution_count": 18,
   "id": "4af95953",
   "metadata": {},
   "outputs": [],
   "source": [
    "def load_array(data_arrays, batch_size, is_train=True): #@save\n",
    "    \"\"\"Construct a PyTorch data iterator.\"\"\"\n",
    "    dataset = data.TensorDataset(*data_arrays)\n",
    "    return data.DataLoader(dataset, batch_size, shuffle=is_train)\n",
    "batch_size = 10\n",
    "data_iter = load_array((features, labels), batch_size)"
   ]
  },
  {
   "cell_type": "code",
   "execution_count": 19,
   "id": "3c9cb2c1",
   "metadata": {},
   "outputs": [
    {
     "data": {
      "text/plain": [
       "[tensor([[ 0.5410,  0.0362],\n",
       "         [ 0.8261, -1.6003],\n",
       "         [ 1.2515, -1.1159],\n",
       "         [ 0.6271,  0.7902],\n",
       "         [ 1.2835,  0.7375],\n",
       "         [-0.2747, -0.4686],\n",
       "         [ 1.3218,  0.5434],\n",
       "         [ 0.0323, -0.7965],\n",
       "         [ 1.0484,  0.9792],\n",
       "         [-0.4642,  1.4009]]),\n",
       " tensor([[ 5.1578],\n",
       "         [11.2952],\n",
       "         [10.5064],\n",
       "         [ 2.7712],\n",
       "         [ 4.2741],\n",
       "         [ 5.2398],\n",
       "         [ 5.0068],\n",
       "         [ 6.9869],\n",
       "         [ 2.9674],\n",
       "         [-1.4870]])]"
      ]
     },
     "execution_count": 19,
     "metadata": {},
     "output_type": "execute_result"
    }
   ],
   "source": [
    "next(iter(data_iter)) "
   ]
  },
  {
   "cell_type": "code",
   "execution_count": 20,
   "id": "d2c9777e",
   "metadata": {},
   "outputs": [],
   "source": [
    "from torch import nn\n",
    "net = nn.Sequential(nn.Linear(2, 1))"
   ]
  },
  {
   "cell_type": "code",
   "execution_count": 21,
   "id": "01465c1a",
   "metadata": {},
   "outputs": [
    {
     "name": "stdout",
     "output_type": "stream",
     "text": [
      "Sequential(\n",
      "  (0): Linear(in_features=2, out_features=1, bias=True)\n",
      ")\n",
      "<class 'torch.nn.modules.linear.Linear'>\n",
      "Linear(in_features=2, out_features=1, bias=True)\n"
     ]
    }
   ],
   "source": [
    "print(net)\n",
    "print(type(nn.Linear(2, 1)))\n",
    "print(net[0])  # only 1 element because there's only one input layer."
   ]
  },
  {
   "cell_type": "code",
   "execution_count": 22,
   "id": "df49563f",
   "metadata": {},
   "outputs": [
    {
     "name": "stdout",
     "output_type": "stream",
     "text": [
      "Weight values: Parameter containing:\n",
      "tensor([[-0.0621, -0.0414]], requires_grad=True)\n",
      "Weight data: tensor([[-0.0621, -0.0414]])\n",
      "Bias values: Parameter containing:\n",
      "tensor([-0.1753], requires_grad=True)\n",
      "Bias data: tensor([-0.1753])\n"
     ]
    }
   ],
   "source": [
    "print(f\"Weight values: {net[0].weight}\")\n",
    "print(f\"Weight data: {net[0].weight.data}\")\n",
    "print(f\"Bias values: {net[0].bias}\")\n",
    "print(f\"Bias data: {net[0].bias.data}\")"
   ]
  },
  {
   "cell_type": "code",
   "execution_count": 23,
   "id": "54d71049",
   "metadata": {},
   "outputs": [
    {
     "data": {
      "text/plain": [
       "tensor([0.])"
      ]
     },
     "execution_count": 23,
     "metadata": {},
     "output_type": "execute_result"
    }
   ],
   "source": [
    "net[0].weight.data.normal_(0, 0.01)\n",
    "net[0].bias.data.fill_(0)"
   ]
  },
  {
   "cell_type": "code",
   "execution_count": 24,
   "id": "67d62f68",
   "metadata": {},
   "outputs": [
    {
     "name": "stdout",
     "output_type": "stream",
     "text": [
      "Weight values: Parameter containing:\n",
      "tensor([[-0.0021, -0.0099]], requires_grad=True)\n",
      "Weight data: tensor([[-0.0021, -0.0099]])\n",
      "Bias values: Parameter containing:\n",
      "tensor([0.], requires_grad=True)\n",
      "Bias data: tensor([0.])\n"
     ]
    }
   ],
   "source": [
    "print(f\"Weight values: {net[0].weight}\")\n",
    "print(f\"Weight data: {net[0].weight.data}\")\n",
    "print(f\"Bias values: {net[0].bias}\")\n",
    "print(f\"Bias data: {net[0].bias.data}\")"
   ]
  },
  {
   "cell_type": "code",
   "execution_count": 25,
   "id": "72a32a92",
   "metadata": {},
   "outputs": [
    {
     "name": "stdout",
     "output_type": "stream",
     "text": [
      "(Parameter containing:\n",
      "tensor([[-0.0021, -0.0099]], requires_grad=True), Parameter containing:\n",
      "tensor([0.], requires_grad=True))\n"
     ]
    }
   ],
   "source": [
    "print(tuple(net.parameters()))"
   ]
  },
  {
   "cell_type": "code",
   "execution_count": 26,
   "id": "414314df",
   "metadata": {},
   "outputs": [],
   "source": [
    "loss = nn.MSELoss()\n",
    "trainer = torch.optim.SGD(net.parameters(), lr=0.03)"
   ]
  },
  {
   "cell_type": "code",
   "execution_count": 27,
   "id": "afff4514",
   "metadata": {},
   "outputs": [
    {
     "name": "stdout",
     "output_type": "stream",
     "text": [
      "epoch 1, loss 0.000224\n",
      "epoch 2, loss 0.000101\n",
      "epoch 3, loss 0.000100\n"
     ]
    }
   ],
   "source": [
    "num_epochs = 3\n",
    "for epoch in range(num_epochs):\n",
    "    for X, y in data_iter:\n",
    "        l = loss(net(X), y)  # loss(10x2, 10x1)\n",
    "        trainer.zero_grad()\n",
    "        l.backward()\n",
    "        trainer.step()\n",
    "    l = loss(net(features), labels)\n",
    "    print(f\"epoch {epoch + 1}, loss {l:f}\")      "
   ]
  },
  {
   "cell_type": "code",
   "execution_count": 28,
   "id": "d9fd9c5c",
   "metadata": {},
   "outputs": [
    {
     "name": "stdout",
     "output_type": "stream",
     "text": [
      "error in estimating w: tensor([-4.9591e-05, -4.0388e-04])\n",
      "error in estimating b: tensor([-0.0002])\n"
     ]
    }
   ],
   "source": [
    "w = net[0].weight.data\n",
    "print('error in estimating w:', true_w - w.reshape(true_w.shape))\n",
    "b = net[0].bias.data\n",
    "print('error in estimating b:', true_b - b)"
   ]
  },
  {
   "cell_type": "markdown",
   "id": "0dfb405f",
   "metadata": {},
   "source": [
    "# Takeaway\n",
    "\n",
    "**We can initialize the parameters by replacing their values with methods ending with _.**"
   ]
  },
  {
   "cell_type": "markdown",
   "id": "351b02fc",
   "metadata": {},
   "source": [
    "# Exercises\n",
    "\n",
    "1.  If we replace nn.MSELoss(reduction='sum') with nn.MSELoss(), how can we change the\n",
    "learning rate for the code to behave identically. Why?\n",
    "\n",
    "https://hy38.github.io/D2L-3-linear-regression-concise\n"
   ]
  },
  {
   "cell_type": "code",
   "execution_count": 29,
   "id": "ae249b50",
   "metadata": {},
   "outputs": [
    {
     "name": "stdout",
     "output_type": "stream",
     "text": [
      "epoch 1, loss 0.116181\n",
      "epoch 2, loss 0.100443\n",
      "epoch 3, loss 0.126965\n",
      "epoch 1, loss 0.000127\n",
      "epoch 2, loss 0.000144\n",
      "epoch 3, loss 0.000110\n"
     ]
    }
   ],
   "source": [
    "loss = nn.MSELoss(reduction='sum')\n",
    "trainer = torch.optim.SGD(net.parameters(), lr=0.03)\n",
    "\n",
    "num_epochs = 3\n",
    "for epoch in range(num_epochs):\n",
    "    for X, y in data_iter:\n",
    "        l = loss(net(X), y)  # loss(10x2, 10x1)\n",
    "        trainer.zero_grad()\n",
    "        l.backward()\n",
    "        trainer.step()\n",
    "    l = loss(net(features), labels)\n",
    "    print(f\"epoch {epoch + 1}, loss {l:f}\")  \n",
    "\n",
    "loss = nn.MSELoss(reduction='mean')\n",
    "trainer = torch.optim.SGD(net.parameters(), lr=0.3)\n",
    "\n",
    "num_epochs = 3\n",
    "for epoch in range(num_epochs):\n",
    "    for X, y in data_iter:\n",
    "        l = loss(net(X), y)  # loss(10x2, 10x1)\n",
    "        trainer.zero_grad()\n",
    "        l.backward()\n",
    "        trainer.step()\n",
    "    l = loss(net(features), labels)\n",
    "    print(f\"epoch {epoch + 1}, loss {l:f}\")  "
   ]
  },
  {
   "cell_type": "markdown",
   "id": "c35f0581",
   "metadata": {},
   "source": [
    "2. Review the PyTorch documentation to see what loss functions and initialization methods are\n",
    "provided. Replace the loss by Huberʼs loss.\n"
   ]
  },
  {
   "cell_type": "code",
   "execution_count": 34,
   "id": "8a39dd74",
   "metadata": {},
   "outputs": [
    {
     "name": "stdout",
     "output_type": "stream",
     "text": [
      "epoch 1, loss 0.051458\n",
      "epoch 2, loss 0.050454\n",
      "epoch 3, loss 0.051122\n"
     ]
    }
   ],
   "source": [
    "loss = nn.SmoothL1Loss(reduction='sum')  # HuberLoss can have a similar behavior as an MSE\n",
    "trainer = torch.optim.SGD(net.parameters(), lr=0.03)\n",
    "\n",
    "num_epochs = 3\n",
    "for epoch in range(num_epochs):\n",
    "    for X, y in data_iter:\n",
    "        l = loss(net(X), y)  # loss(10x2, 10x1)\n",
    "        trainer.zero_grad()\n",
    "        l.backward()\n",
    "        trainer.step()\n",
    "    l = loss(net(features), labels)\n",
    "    print(f\"epoch {epoch + 1}, loss {l:f}\")  "
   ]
  },
  {
   "cell_type": "markdown",
   "id": "fcbad7ac",
   "metadata": {},
   "source": [
    "3. How do you access the gradient of net[0].weight?"
   ]
  },
  {
   "cell_type": "code",
   "execution_count": 53,
   "id": "0a3ed936",
   "metadata": {},
   "outputs": [
    {
     "name": "stdout",
     "output_type": "stream",
     "text": [
      "tensor([1., 1.])\n",
      "tensor([1., 2.], requires_grad=True)\n",
      "tensor([2., 2.])\n",
      "tensor([1., 2.], requires_grad=True)\n",
      "tensor([3., 3.])\n",
      "tensor([1., 2.], requires_grad=True)\n"
     ]
    }
   ],
   "source": [
    "loss = nn.SmoothL1Loss(reduction='sum')  # HuberLoss\n",
    "trainer = torch.optim.SGD(net.parameters(), lr=0.03)\n",
    "\n",
    "# num_epochs = 3\n",
    "# for epoch in range(num_epochs):\n",
    "#     for X, y in data_iter:\n",
    "#         l = loss(net(X), y)  # loss(10x2, 10x1)\n",
    "#         trainer.zero_grad()\n",
    "#         l.backward()\n",
    "#         trainer.step()\n",
    "#     l = loss(net(features), labels)\n",
    "#     print(f\"epoch {epoch + 1}, loss {l:f}\")  \n",
    "    \n",
    "w = torch.tensor((1., 2.), requires_grad=True)  # only need this gradient. add floats\n",
    "b = torch.ones(2, 1)\n",
    "y = torch.matmul(w, b)\n",
    "y.sum().backward(retain_graph=True)  # added argument to see twice as much for gradient value because it was not\n",
    "# reinitialized\n",
    "print(w.grad)\n",
    "print(w)\n",
    "y.sum().backward(retain_graph=True)\n",
    "print(w.grad)\n",
    "print(w)\n",
    "y.sum().backward()\n",
    "print(w.grad)  # messing up with the gradient values because it keeps adding them.\n",
    "print(w)\n",
    "\n",
    "# need to use grad._zero() or zero_grad()"
   ]
  },
  {
   "cell_type": "code",
   "execution_count": null,
   "id": "59fb4559",
   "metadata": {},
   "outputs": [],
   "source": []
  }
 ],
 "metadata": {
  "kernelspec": {
   "display_name": "Python 3",
   "language": "python",
   "name": "python3"
  },
  "language_info": {
   "codemirror_mode": {
    "name": "ipython",
    "version": 3
   },
   "file_extension": ".py",
   "mimetype": "text/x-python",
   "name": "python",
   "nbconvert_exporter": "python",
   "pygments_lexer": "ipython3",
   "version": "3.8.8"
  }
 },
 "nbformat": 4,
 "nbformat_minor": 5
}
