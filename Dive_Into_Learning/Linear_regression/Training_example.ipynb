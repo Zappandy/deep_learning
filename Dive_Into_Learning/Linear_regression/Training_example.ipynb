{
 "cells": [
  {
   "cell_type": "markdown",
   "metadata": {},
   "source": [
    "Here we will create a simple model for predicting the values of a linear regression "
   ]
  },
  {
   "cell_type": "code",
   "execution_count": 1,
   "metadata": {},
   "outputs": [],
   "source": [
    "%matplotlib inline\n",
    "import numpy as np\n",
    "import torch\n",
    "from mpl_toolkits import mplot3d\n",
    "import matplotlib.pyplot as plt\n",
    "import random\n",
    "#from ipynb.fs.full.Graphic_2_Linear_regression import Synthetic_data # Own package, this one will provide a synthetic dataset\n",
    "from synthetic_data import Synthetic_data"
   ]
  },
  {
   "cell_type": "code",
   "execution_count": 2,
   "metadata": {},
   "outputs": [],
   "source": [
    "class littleTrainModel:\n",
    "    \"\"\"\n",
    "    This is a class created to train a simple model and predicting the values w, and b of a linear regresion given in\n",
    "    way of data set, each row is a line and the features are the independant variables, and the label is the \n",
    "    dependant variable.\n",
    "    \n",
    "    Attributes:\n",
    "    \n",
    "            dataset_train(tuple)     = Dataset which will be our dataset of training, must be made up of two tensors, \n",
    "                                        the first one contain the features, and the second one the labels or can be\n",
    "                                        created with Graphic_2_Linear_regression module.\n",
    "            lr(float)                = learning rate\n",
    "            epochs(int)              = number of epoch\n",
    "            bacthSize(int)           = length of minibatches which will be used for training the model\n",
    "            dataSetValidation(tuple) = If isn't entered will be assigned equal to dataset_train\n",
    "            netFunc(function)        = if isn't assigned will be equal to a linear regresion\n",
    "            lossFunc(function)       = if isn't assigned will be equal to a squared error \n",
    "                                  \n",
    "    \n",
    "    Example::\n",
    "          \n",
    "        >> dataset_train  = Synthetic_data([2, -3.4],4,2, 1000).yield_data() -> dataset with parameters w[2, 3.4] and b = 4.2\n",
    "                            and 1000 examples.\n",
    "        \n",
    "        >> model = littleTrainModel(dataset_train, 0.03, 4, 10) \n",
    "        >> model.makePrediction()\n",
    "            epoch 1, loss 0.039874\n",
    "            epoch 2, loss 0.000104\n",
    "            epoch 3, loss 0.000000\n",
    "            epoch 4, loss 0.000000   \n",
    "            \n",
    "        The parameters predicted w and b are stored as attributes and can be accessed if you wish\n",
    "        \n",
    "        >> model.w \n",
    "           tensor([[ 2.0000],[-3.4000]], requires_grad=True),\n",
    " \n",
    "        >>model.b  \n",
    "           tensor([4.2000], requires_grad=True))\n",
    "           \n",
    "         Notes: \n",
    "                -In this case by the simplicity of the model and that the train and validation model are de same\n",
    "                 we have a error of zero.\n",
    "               - Because the assuption this module is obiously overfit, somethig that in the real world is for nothing \n",
    "                 desired \n",
    "    \"\"\"\n",
    "    \n",
    "    \n",
    "    def __init__(self, dataSetTrain, lr, epochs, batchSize, dataSetValidation=None, netFunc='linreg', lossFunc='squared_loss'):\n",
    "        self.w = torch.normal(0, 0.1, size=(2,1), requires_grad=True)\n",
    "        self.b = torch.zeros(1, requires_grad=True)\n",
    "        self.dataSetTrain = dataSetTrain\n",
    "        self.lr = lr\n",
    "        self.epochs = epochs        \n",
    "        self.batchSize = batchSize\n",
    "        self.netFunc = netFunc\n",
    "        self.lossFunc = lossFunc\n",
    "        self.errors = []\n",
    "        \n",
    "        if dataSetValidation != None:         # If you wish put other dataset as a trining data\n",
    "            self.dataSetValidation = dataSetValidation\n",
    "        else:\n",
    "            self.dataSetValidation = dataSetTrain\n",
    "        \n",
    "    def net(self, X, w, b):                   # lineal regresion in a matriz fashion\n",
    "        if self.netFunc == 'linreg':\n",
    "            return torch.matmul(X,w) + b\n",
    "        else:\n",
    "            return self.netFunc(X,w,b)\n",
    "    \n",
    "    def loss(self,y_hat, y):                  # squared loss function\n",
    "        if self.lossFunc == 'squared_loss':\n",
    "            return ((y_hat- y.reshape(y_hat.shape))**2)/2 \n",
    "        else:\n",
    "            return self.loss(y_hat, y)\n",
    "    \n",
    "    def sgd(self, params, lr, batch_size):    # Stochastic gradient descend function\n",
    "        with torch.no_grad():             # torch.no_grad because this ones will be calculated in the training\n",
    "            for param in params:\n",
    "                param -= lr*param.grad / batch_size  \n",
    "                param.grad.zero_() \n",
    "    \n",
    "    def dataIter(self, batchSize):       #  suffle the data for more randomness \n",
    "        minibatch_features, minibatch_labels = self.dataSetValidation\n",
    "        num_examples = len(minibatch_features)   \n",
    "        indices = list(range(num_examples))  \n",
    "        random.shuffle(indices) \n",
    "        for i in range(0, num_examples, batchSize):  \n",
    "            batch_indices = indices[i: min(i + batchSize, num_examples)]  \n",
    "            yield self.dataSetValidation[0][batch_indices], self.dataSetValidation[1][batch_indices] \n",
    "       \n",
    "    def makePrediction(self):      \n",
    "        error = []\n",
    "        for epoch in range(self.epochs):   \n",
    "            for X,y in self.dataIter(self.batchSize):    # catch one minibatch and start to operate over it\n",
    "                l = self.loss(self.net(X, self.w,self.b),y) # make the loss between predicted and labels\n",
    "                # backward pass\n",
    "                l.sum().backward()   # doing the sum because backward must be perfomed over a scalar\n",
    "                # forward pass\n",
    "                self.sgd([self.w,self.b], self.lr, self.batchSize) # apply the update of  w and b  \n",
    "            with torch.no_grad(): # for each opoch calculate the loss\n",
    "                train_l = self.loss(self.net(self.dataSetValidation[0],self.w,self.b),self.dataSetValidation[1])\n",
    "                self.errors.append(float(train_l.mean()))\n",
    "                print(f'epoch {epoch + 1}, loss {float(train_l.mean()):f}') # uncomment to see the each loss"
   ]
  },
  {
   "cell_type": "code",
   "execution_count": 3,
   "metadata": {},
   "outputs": [
    {
     "name": "stdout",
     "output_type": "stream",
     "text": [
      "tensor([[0.2094],\n",
      "        [0.0478]], requires_grad=True) tensor([0.], requires_grad=True)\n"
     ]
    }
   ],
   "source": [
    "true_w = torch.tensor([2, -3.4])\n",
    "true_b = 4.2\n",
    "dataset_train = Synthetic_data(true_w, true_b, 1000).yield_data()\n",
    "model = littleTrainModel(dataset_train, 0.03, 4, 10)\n",
    "print(model.w, model.b)"
   ]
  },
  {
   "cell_type": "code",
   "execution_count": 4,
   "metadata": {},
   "outputs": [
    {
     "name": "stdout",
     "output_type": "stream",
     "text": [
      "epoch 1, loss 0.035206\n",
      "epoch 2, loss 0.000077\n",
      "epoch 3, loss 0.000000\n",
      "epoch 4, loss 0.000000\n"
     ]
    }
   ],
   "source": [
    "model.makePrediction()"
   ]
  },
  {
   "cell_type": "markdown",
   "metadata": {},
   "source": [
    "# Excercises"
   ]
  },
  {
   "cell_type": "markdown",
   "metadata": {},
   "source": [
    "**1.** What would happen if we were to initialize the weights to zero. Would the algorithm still\n",
    "work?"
   ]
  },
  {
   "cell_type": "markdown",
   "metadata": {},
   "source": [
    "As the funtion has the way $ Y = X*w + b$ and the backwards is calculated as the derivate of a sum, we have then that the gradient is $ \\sum_{i=0}^{n} =  \\begin{bmatrix} \\frac{\\partial Y}{\\partial w} \\\\ \\frac{\\partial Y}{\\partial w} \\end{bmatrix} = \\sum_{i=0}^{n} \\begin{bmatrix} X \\\\ 1 \\end{bmatrix} $ then the gradiend doesn't depend on the initials values w and b.\n",
    "\n",
    "And as the funtion that we are using to measure the error is a squared error and this one has a unique minima,( is practically a parabola), there is no problem with initializing in zero, because wouldn't be problem of achieve a local minimum.\n"
   ]
  },
  {
   "cell_type": "code",
   "execution_count": 5,
   "metadata": {},
   "outputs": [
    {
     "name": "stdout",
     "output_type": "stream",
     "text": [
      "tensor([[-0.0229],\n",
      "        [ 0.0869]], requires_grad=True) tensor([0.], requires_grad=True)\n"
     ]
    }
   ],
   "source": [
    "true_w = torch.tensor([2, -3.4])\n",
    "true_b = 4.2\n",
    "dataset_train = Synthetic_data(true_w, true_b, 1000).yield_data()\n",
    "model = littleTrainModel(dataset_train, 0.03, 4, 10)\n",
    "print(model.w, model.b)"
   ]
  },
  {
   "cell_type": "code",
   "execution_count": 6,
   "metadata": {},
   "outputs": [
    {
     "name": "stdout",
     "output_type": "stream",
     "text": [
      "epoch 1, loss 0.047506\n",
      "epoch 2, loss 0.000144\n",
      "epoch 3, loss 0.000000\n",
      "epoch 4, loss 0.000000\n"
     ]
    }
   ],
   "source": [
    "model.makePrediction()"
   ]
  },
  {
   "cell_type": "markdown",
   "metadata": {},
   "source": [
    "**2.** why does the following torch.matmul operation raise the **RuntimeError: expected scalar type Long but found Float** error? \n",
    "\n",
    "<code>true_w = torch.tensor([2, -3.])\n",
    "true_b = 4\n",
    "features = torch.tensor([[5,4],[3,2]])\n",
    "labels = torch.matmul(features,true_w) + true_b\n",
    "</code>"
   ]
  },
  {
   "cell_type": "markdown",
   "metadata": {},
   "source": [
    "The answer is because Pytorch can't perfom broadcasting operations over a different Data types for example in the above snippet the value true_w has assigned a torch.float32 while the features has torch.int64\n",
    "\n",
    "<code>\\>> print(true_w.dtype)\n",
    "\\>> torch.float32\n",
    "\n",
    "\\>> print(features.dtype)\n",
    "\\>> torch.int64</code>\n",
    "\n",
    "If in the previous code the -3.0 is change by a -3, then the equation can be performed."
   ]
  },
  {
   "cell_type": "markdown",
   "metadata": {},
   "source": [
    "__3__ Why is the reshape function needed in the squared_loss function?"
   ]
  },
  {
   "cell_type": "markdown",
   "metadata": {},
   "source": [
    "### Loss function\n",
    "<code>\n",
    " def loss(self,y_hat, y):            \n",
    "        if self.lossFunc == 'squared_loss':\n",
    "            return ((y_hat- y.reshape(y_hat.shape))**2)/2 \n",
    "        else:\n",
    "            return self.loss(y_hat, y)</code>\n",
    "            \n",
    "### Loss function in the epochs\n",
    "<code>\n",
    "for epoch in range(self.epochs):       \n",
    "    for X,y in self.dataIter(self.batchSize): \n",
    "        l = self.loss(self.net(X, self.w,self.b),y) \n",
    "</code>\n",
    "\n",
    "### net function that is the first input of the Loss function\n",
    "\n",
    "<code>def net(self, X, w, b):     \n",
    "        if self.netFunc == 'linreg':\n",
    "          return torch.matmul(X,w) + b\n",
    "</code>"
   ]
  },
  {
   "cell_type": "markdown",
   "metadata": {},
   "source": [
    "The caller of the loss function requiere two inputs, the first one the net that perform the prediction, and the second one the labels (true values), as the net return the result of a multiplication this one has one shape of \\[num_examples\\] and the __y__ (labels) has one shape of [numexample, 1], the followin example, show the shapes of the y_hat and y"
   ]
  },
  {
   "cell_type": "code",
   "execution_count": 7,
   "metadata": {},
   "outputs": [
    {
     "data": {
      "text/plain": [
       "torch.Size([10, 1])"
      ]
     },
     "execution_count": 7,
     "metadata": {},
     "output_type": "execute_result"
    }
   ],
   "source": [
    "w = torch.tensor([2, -3.])\n",
    "b = 4\n",
    "data =  Synthetic_data(w,b, 10).yield_data()\n",
    "X = data[0]\n",
    "y_hat = data[1]\n",
    "y_hat.shape"
   ]
  },
  {
   "cell_type": "code",
   "execution_count": 8,
   "metadata": {},
   "outputs": [],
   "source": [
    "def net(X, w, b):\n",
    "        return torch.matmul(X,w) + b\n",
    "y = net(X,w,b)"
   ]
  },
  {
   "cell_type": "code",
   "execution_count": 9,
   "metadata": {},
   "outputs": [
    {
     "data": {
      "text/plain": [
       "torch.Size([10])"
      ]
     },
     "execution_count": 9,
     "metadata": {},
     "output_type": "execute_result"
    }
   ],
   "source": [
    "y.shape"
   ]
  },
  {
   "cell_type": "markdown",
   "metadata": {},
   "source": [
    "Therefore if we perform y_hat - y we get a broadcasting of every y_hat's row with every column, and then finally we would get a tensor that is not the desired "
   ]
  },
  {
   "cell_type": "markdown",
   "metadata": {},
   "source": [
    "__3.__ Experiment using different learning rates to find out how fast the loss function value drops."
   ]
  },
  {
   "cell_type": "code",
   "execution_count": 10,
   "metadata": {},
   "outputs": [],
   "source": [
    "lrs = [0.1, 0.08, 0.06, 0.04, 0.02, 0.001,0.0001]\n",
    "w = torch.tensor([2, -3.4])\n",
    "b = 4.2\n",
    "num_examples = 1000\n",
    "epochs = 3\n",
    "\n",
    "class ErrorDependOnLr:\n",
    "    \n",
    "    def __init__(self, lrs, w, b, num_examples, epochs):\n",
    "          \n",
    "        self.lrs = lrs\n",
    "        self.w = w\n",
    "        self.b = b\n",
    "        self.num_examples = num_examples\n",
    "        self.epochs = epochs\n",
    "        self.errors = []\n",
    "        \n",
    "    def EpochError(self):\n",
    "        errors = []\n",
    "        dataset_train = Synthetic_data(self.w , self.b, self.num_examples).yield_data()\n",
    "\n",
    "        for lr in self.lrs: \n",
    "            model = littleTrainModel(dataset_train, lr, self.epochs, 10)\n",
    "            model.makePrediction()\n",
    "            self.errors.append(model.errors[self.epochs-1])\n",
    "        \n",
    "    def graph(self):\n",
    "        self.EpochError()\n",
    "        ax = plt.axes()\n",
    "        plt.title('Errors depend on Learning rate')\n",
    "        plt.grid(True)\n",
    "        ax.set_xlabel('x')\n",
    "        ax.set_ylabel('Error')\n",
    "        ax.axis([0.8, 6.2, -0.5, 10])\n",
    "        labels = self.lrs\n",
    "        \n",
    "        for point in enumerate(self.errors, start=1):\n",
    "            ax.scatter(point[0],point[1])\n",
    "            ax.legend(labels)"
   ]
  },
  {
   "cell_type": "code",
   "execution_count": 11,
   "metadata": {},
   "outputs": [],
   "source": [
    "errors = ErrorDependOnLr(lrs, w, b, num_examples, epochs)"
   ]
  },
  {
   "cell_type": "code",
   "execution_count": 12,
   "metadata": {},
   "outputs": [
    {
     "name": "stdout",
     "output_type": "stream",
     "text": [
      "epoch 1, loss 0.000000\n",
      "epoch 2, loss 0.000000\n",
      "epoch 3, loss 0.000000\n",
      "epoch 1, loss 0.000001\n",
      "epoch 2, loss 0.000000\n",
      "epoch 3, loss 0.000000\n",
      "epoch 1, loss 0.000088\n",
      "epoch 2, loss 0.000000\n",
      "epoch 3, loss 0.000000\n",
      "epoch 1, loss 0.005282\n",
      "epoch 2, loss 0.000002\n",
      "epoch 3, loss 0.000000\n",
      "epoch 1, loss 0.297496\n",
      "epoch 2, loss 0.005735\n",
      "epoch 3, loss 0.000113\n",
      "epoch 1, loss 13.687961\n",
      "epoch 2, loss 11.252166\n",
      "epoch 3, loss 9.250182\n",
      "epoch 1, loss 16.321453\n",
      "epoch 2, loss 16.004808\n",
      "epoch 3, loss 15.694309\n"
     ]
    },
    {
     "data": {
      "image/png": "[encoded data removed]",
      "text/plain": [
       "<Figure size 432x288 with 1 Axes>"
      ]
     },
     "metadata": {
      "needs_background": "light"
     },
     "output_type": "display_data"
    }
   ],
   "source": [
    "errors.graph()"
   ]
  },
  {
   "cell_type": "code",
   "execution_count": 13,
   "metadata": {},
   "outputs": [
    {
     "data": {
      "text/plain": [
       "[4.692992413950214e-13,\n",
       " 5.142055401266554e-13,\n",
       " 1.9405490669227587e-12,\n",
       " 7.494685982933902e-10,\n",
       " 0.00011285708023933694,\n",
       " 9.250182151794434,\n",
       " 15.69430923461914]"
      ]
     },
     "execution_count": 13,
     "metadata": {},
     "output_type": "execute_result"
    }
   ],
   "source": [
    "errors.errors"
   ]
  },
  {
   "cell_type": "code",
   "execution_count": null,
   "metadata": {},
   "outputs": [],
   "source": []
  }
 ],
 "metadata": {
  "kernelspec": {
   "display_name": "Python 3",
   "language": "python",
   "name": "python3"
  },
  "language_info": {
   "codemirror_mode": {
    "name": "ipython",
    "version": 3
   },
   "file_extension": ".py",
   "mimetype": "text/x-python",
   "name": "python",
   "nbconvert_exporter": "python",
   "pygments_lexer": "ipython3",
   "version": "3.8.10"
  }
 },
 "nbformat": 4,
 "nbformat_minor": 4
}
